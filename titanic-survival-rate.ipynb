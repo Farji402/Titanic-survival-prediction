{
 "cells": [
  {
   "cell_type": "code",
   "execution_count": 1,
   "metadata": {
    "_cell_guid": "03c014f5-34ed-4404-8201-ff4786a9afa9",
    "_uuid": "1123b3d9-8663-41d6-8392-d053d5cb6757"
   },
   "outputs": [
    {
     "name": "stdout",
     "output_type": "stream",
     "text": [
      "Fitting 4 folds for each of 50 candidates, totalling 200 fits\n"
     ]
    },
    {
     "name": "stderr",
     "output_type": "stream",
     "text": [
      "[Parallel(n_jobs=-1)]: Using backend LokyBackend with 4 concurrent workers.\n",
      "[Parallel(n_jobs=-1)]: Done  42 tasks      | elapsed:    4.5s\n",
      "[Parallel(n_jobs=-1)]: Done 192 tasks      | elapsed:   10.0s\n",
      "[Parallel(n_jobs=-1)]: Done 200 out of 200 | elapsed:   10.3s finished\n"
     ]
    },
    {
     "name": "stdout",
     "output_type": "stream",
     "text": [
      "best score:  0.7705328647032683\n",
      "\n",
      "    PassengerId  Survived\n",
      "0          892         0\n",
      "1          893         1\n",
      "2          894         0\n",
      "3          895         0\n",
      "4          896         1\n"
     ]
    }
   ],
   "source": [
    "import pandas as pd\n",
    "import numpy as np\n",
    "import matplotlib.pyplot as plt\n",
    "import seaborn as sns\n",
    "\n",
    "#reading train data\n",
    "df = pd.read_csv('../input/titanic/train.csv')\n",
    "\n",
    "\"\"\"print(df.isnull().sum())\"\"\"\n",
    "#reading test data\n",
    "df_test = pd.read_csv('../input/titanic/test.csv')\n",
    "\n",
    "#treating test data\n",
    "df_test.drop(columns= ['Cabin','Age', 'Name', 'Ticket'], inplace= True)\n",
    "df_test['Sex'] = df_test['Sex'].astype('category')\n",
    "df_test['Embarked'] = df_test['Embarked'].astype('category')\n",
    "df_test_num = pd.get_dummies(df_test, drop_first= True)\n",
    "df_test_num.fillna(df_test_num['Fare'].mean(), inplace= True)\n",
    "\n",
    "\n",
    "\n",
    "#treating train data\n",
    "df.drop(columns= ['Cabin','Age', 'Name', 'Ticket'], inplace= True)\n",
    "df = df.dropna()\n",
    "df['Sex'] = df['Sex'].astype('category')\n",
    "df['Embarked'] = df['Embarked'].astype('category')\n",
    "df_num = pd.get_dummies(df, drop_first= True)\n",
    "\n",
    "\n",
    "\n",
    "#Model \n",
    "from sklearn.tree import DecisionTreeClassifier\n",
    "from sklearn.linear_model import LogisticRegression\n",
    "from sklearn.ensemble import AdaBoostClassifier, GradientBoostingClassifier, RandomForestClassifier\n",
    "from sklearn.metrics import roc_auc_score\n",
    "from sklearn.model_selection import train_test_split, GridSearchCV, RandomizedSearchCV\n",
    "from sklearn.pipeline import Pipeline \n",
    "from sklearn.svm import SVC\n",
    "import xgboost as xgb\n",
    "\n",
    "X = df_num.drop(columns= ['Survived'])\n",
    "y = df_num['Survived']\n",
    "\n",
    "X_train, X_test, y_train, y_test = train_test_split(X, y, test_size= 0.4, random_state= 20, stratify= y)\n",
    "\n",
    "\n",
    "\"\"\"paras= {'n_estimators':np.arange(100, 700, 50)}\n",
    "gbt_clf = GradientBoostingClassifier(max_depth=1, random_state=20, subsample=0.8,max_features=0.2)\n",
    "gbt = GridSearchCV(gbt_clf, paras, cv=5)\n",
    "gbt.fit(X, y)\n",
    "#y_pred_gbt = gbt.predict_proba(X_test)[:,1]\n",
    "#score_gbt = roc_auc_score(y_test, y_pred_gbt)\n",
    "#print('ROC AUC score of gbt: {:.2f}'.format(score_gbt))\n",
    "#print('Accuracy on train data: {}'.format(gbt.score(X_train, y_train)))\n",
    "#print('Accuracy on test data: {}'.format(gbt.score(X_test, y_test)))\"\"\"\n",
    "\n",
    "\n",
    "\n",
    "params = { 'max_depth':np.arange(1,10,1),\n",
    "         'learning_rate':np.arange(0.05, 1.05, 0.05),\n",
    "         'n_estimators':[200],\n",
    "         'subsample':np.arange(0.05, 1.05, 0.05),\n",
    "         'colsample_bytree': np.arange(0.05,1,0.05)}\n",
    "searcher = RandomizedSearchCV(estimator= xgb.XGBClassifier(), param_distributions= params,\n",
    "                             n_iter= 50, scoring= 'accuracy', cv= 4, verbose= 1, n_jobs= -1)\n",
    "searcher.fit(X, y)\n",
    "print(\"best score: \", searcher.best_score_)\n",
    "\n",
    "\n",
    "prediction = searcher.predict(df_test_num)\n",
    "\n",
    "pred_dict = { 'PassengerId': df_test_num['PassengerId'].values, 'Survived': prediction}\n",
    "\n",
    "df_pred = pd.DataFrame(pred_dict)\n",
    "df_pred = df_pred.sort_values('PassengerId')\n",
    "\n",
    "\n",
    "print('\\n', df_pred.head())\n",
    "df_pred.to_csv('submission.csv', index= False )"
   ]
  }
 ],
 "metadata": {
  "kernelspec": {
   "display_name": "Python 3",
   "language": "python",
   "name": "python3"
  },
  "language_info": {
   "codemirror_mode": {
    "name": "ipython",
    "version": 3
   },
   "file_extension": ".py",
   "mimetype": "text/x-python",
   "name": "python",
   "nbconvert_exporter": "python",
   "pygments_lexer": "ipython3",
   "version": "3.7.6"
  }
 },
 "nbformat": 4,
 "nbformat_minor": 4
}
